{
 "cells": [
  {
   "cell_type": "markdown",
   "metadata": {},
   "source": [
    "# Gradient methods. Steepest descent method."
   ]
  },
  {
   "cell_type": "markdown",
   "metadata": {},
   "source": [
    "_Last update:_ 12.03.2021"
   ]
  },
  {
   "cell_type": "markdown",
   "metadata": {},
   "source": [
    "## Importing modules"
   ]
  },
  {
   "cell_type": "code",
   "execution_count": 2,
   "metadata": {},
   "outputs": [],
   "source": [
    "import numpy as np        # for working with matricies and vectors\n",
    "import warnings           # for error handling\n",
    "import sympy as sp        # for beautiful display of intermediate results\n",
    "from IPython.display import Markdown, display  # for beautiful text output"
   ]
  },
  {
   "cell_type": "markdown",
   "metadata": {},
   "source": [
    "## Input data"
   ]
  },
  {
   "cell_type": "markdown",
   "metadata": {},
   "source": [
    "_Source:_ data from the teacher"
   ]
  },
  {
   "cell_type": "code",
   "execution_count": 3,
   "metadata": {},
   "outputs": [],
   "source": [
    "A = np.matrix([[4.33, -1.12, -1.08, 1.14],\n",
    "               [-1.12, 4.33, 0.24, -1.22],\n",
    "               [-1.08, 0.24, 7.21, -3.22],\n",
    "               [1.14, -1.22, -3.22, 5.43]],\n",
    "               dtype=np.dtype(np.float64))"
   ]
  },
  {
   "cell_type": "code",
   "execution_count": 4,
   "metadata": {},
   "outputs": [],
   "source": [
    "f = np.array([0.3, 0.5, 0.7, 0.9],\n",
    "             dtype=np.dtype(np.float64))"
   ]
  },
  {
   "cell_type": "markdown",
   "metadata": {},
   "source": [
    "## Test datasets"
   ]
  },
  {
   "cell_type": "markdown",
   "metadata": {},
   "source": [
    "_Source:_ data from the teacher and Internet"
   ]
  },
  {
   "cell_type": "code",
   "execution_count": 5,
   "metadata": {},
   "outputs": [],
   "source": [
    "test_A1_Err = np.matrix([[1.00, 0.17, -0.25, 0.54],\n",
    "                         [0.47, 1.00, 0.67, -0.32],\n",
    "                         [-0.11, 0.35, 1.00, -0.74],\n",
    "                         [0.55, 0.43, 0.36, 1.00]],\n",
    "                         dtype=np.dtype(np.float64))"
   ]
  },
  {
   "cell_type": "code",
   "execution_count": 6,
   "metadata": {},
   "outputs": [],
   "source": [
    "test_A2_Err = np.matrix([[-11.00, 6.00],\n",
    "                         [6.00, -11.00]],\n",
    "                         dtype=np.dtype(np.float64))\n",
    "test_f2_Err = np.array([0.3, 0.5],\n",
    "             dtype=np.dtype(np.float64))"
   ]
  },
  {
   "cell_type": "markdown",
   "metadata": {},
   "source": [
    "## Checks if a matrix is positive definite"
   ]
  },
  {
   "cell_type": "code",
   "execution_count": 7,
   "metadata": {},
   "outputs": [],
   "source": [
    "def is_positive_definite(A: np.matrix) -> bool:\n",
    "    return np.all(np.linalg.eigvals(A) > 0)  # count the eigenvalues and check that they are all greater than 0"
   ]
  },
  {
   "cell_type": "code",
   "execution_count": 8,
   "metadata": {},
   "outputs": [
    {
     "data": {
      "text/plain": [
       "True"
      ]
     },
     "execution_count": 8,
     "metadata": {},
     "output_type": "execute_result"
    }
   ],
   "source": [
    "is_positive_definite(A)"
   ]
  },
  {
   "cell_type": "markdown",
   "metadata": {},
   "source": [
    "## Checks if a matrix is symmetric"
   ]
  },
  {
   "cell_type": "code",
   "execution_count": 17,
   "metadata": {},
   "outputs": [],
   "source": [
    "def is_symmetric(A: np.matrix) -> bool:\n",
    "    return np.allclose(A, A.T)  # compare the matrix and the transposed one\n",
    "                                # if they 'equal' then the matrix is symmetric"
   ]
  },
  {
   "cell_type": "code",
   "execution_count": 10,
   "metadata": {},
   "outputs": [
    {
     "data": {
      "text/plain": [
       "True"
      ]
     },
     "execution_count": 10,
     "metadata": {},
     "output_type": "execute_result"
    }
   ],
   "source": [
    "is_symmetric(A)"
   ]
  },
  {
   "cell_type": "markdown",
   "metadata": {},
   "source": [
    "## Algorithm"
   ]
  },
  {
   "cell_type": "code",
   "execution_count": 21,
   "metadata": {},
   "outputs": [],
   "source": [
    "def steepest_descent_method(A_arg: np.matrix, f_arg: np.array, K_max: int) -> np.array:\n",
    "    A, f = np.copy(A_arg), np.copy(f_arg)  # copy the arguments so as not to 'dirty' them\n",
    "    display(Markdown('<text style=font-weight:bold;font-size:16px;font-family:serif>Initial data<text>'),\n",
    "            sp.BlockMatrix([sp.Matrix(A.round(decimals=10)), sp.Matrix(f.round(decimals=10))]))\n",
    "    if not is_positive_definite(A):  # check if the matrix `A` is positive definite\n",
    "        warnings.warn(\"Matrix is not positive definite\")  # display an error\n",
    "        return\n",
    "    elif not is_symmetric(A):  # check whether the matrix `A` is symmetric\n",
    "        warnings.warn(\"Matrix is not symmetric\")  # display an error\n",
    "        return\n",
    "    elif K_max < 0:  # check `K_max`\n",
    "        warnings.warn(\"The number of iterations cannot be negative\")  # display an error\n",
    "        return\n",
    "    x = np.zeros(f.shape, dtype=np.dtype(np.float64))  # initial approximation\n",
    "    for k in range(K_max):  # iterate to `K_max`\n",
    "        r = np.squeeze(np.asarray(f - np.matmul(A, x)))  # find the residual vector\n",
    "        alpha = (np.dot(r, r)/np.dot(np.matmul(A, r), r)).item(0)  # find `alpha`\n",
    "        x = x + alpha*r  # find the `k`-th approximate solution\n",
    "        display(Markdown(f'<text style=font-weight:bold;font-size:16px;font-family:serif>{k+1} iteration<text>'),\n",
    "                sp.Matrix(x.round(decimals=10)))\n",
    "    display(Markdown(f'<text style=font-weight:bold;font-size:16px;font-family:serif>Answer<text>'),\n",
    "            sp.Matrix(x.round(decimals=10)))\n",
    "    return x"
   ]
  },
  {
   "cell_type": "markdown",
   "metadata": {},
   "source": [
    "## Tests"
   ]
  },
  {
   "cell_type": "code",
   "execution_count": 22,
   "metadata": {},
   "outputs": [
    {
     "data": {
      "text/markdown": [
       "<text style=font-weight:bold;font-size:16px;font-family:serif>Initial data<text>"
      ],
      "text/plain": [
       "<IPython.core.display.Markdown object>"
      ]
     },
     "metadata": {},
     "output_type": "display_data"
    },
    {
     "data": {
      "text/latex": [
       "$\\displaystyle \\left[\\begin{matrix}\\left[\\begin{matrix}4.33 & -1.12 & -1.08 & 1.14\\\\-1.12 & 4.33 & 0.24 & -1.22\\\\-1.08 & 0.24 & 7.21 & -3.22\\\\1.14 & -1.22 & -3.22 & 5.43\\end{matrix}\\right] & \\left[\\begin{matrix}0.3\\\\0.5\\\\0.7\\\\0.9\\end{matrix}\\right]\\end{matrix}\\right]$"
      ],
      "text/plain": [
       "Matrix([[Matrix([\n",
       "[ 4.33, -1.12, -1.08,  1.14],\n",
       "[-1.12,  4.33,  0.24, -1.22],\n",
       "[-1.08,  0.24,  7.21, -3.22],\n",
       "[ 1.14, -1.22, -3.22,  5.43]]), Matrix([\n",
       "[0.3],\n",
       "[0.5],\n",
       "[0.7],\n",
       "[0.9]])]])"
      ]
     },
     "metadata": {},
     "output_type": "display_data"
    },
    {
     "data": {
      "text/markdown": [
       "<text style=font-weight:bold;font-size:16px;font-family:serif>1 iteration<text>"
      ],
      "text/plain": [
       "<IPython.core.display.Markdown object>"
      ]
     },
     "metadata": {},
     "output_type": "display_data"
    },
    {
     "data": {
      "text/latex": [
       "$\\displaystyle \\left[\\begin{matrix}0.1159775588\\\\0.1932959314\\\\0.2706143039\\\\0.3479326764\\end{matrix}\\right]$"
      ],
      "text/plain": [
       "Matrix([\n",
       "[0.1159775588],\n",
       "[0.1932959314],\n",
       "[0.2706143039],\n",
       "[0.3479326764]])"
      ]
     },
     "metadata": {},
     "output_type": "display_data"
    },
    {
     "data": {
      "text/markdown": [
       "<text style=font-weight:bold;font-size:16px;font-family:serif>2 iteration<text>"
      ],
      "text/plain": [
       "<IPython.core.display.Markdown object>"
      ]
     },
     "metadata": {},
     "output_type": "display_data"
    },
    {
     "data": {
      "text/latex": [
       "$\\displaystyle \\left[\\begin{matrix}0.0985107399\\\\0.2228601566\\\\0.2605456268\\\\0.3451615732\\end{matrix}\\right]$"
      ],
      "text/plain": [
       "Matrix([\n",
       "[0.0985107399],\n",
       "[0.2228601566],\n",
       "[0.2605456268],\n",
       "[0.3451615732]])"
      ]
     },
     "metadata": {},
     "output_type": "display_data"
    },
    {
     "data": {
      "text/markdown": [
       "<text style=font-weight:bold;font-size:16px;font-family:serif>3 iteration<text>"
      ],
      "text/plain": [
       "<IPython.core.display.Markdown object>"
      ]
     },
     "metadata": {},
     "output_type": "display_data"
    },
    {
     "data": {
      "text/latex": [
       "$\\displaystyle \\left[\\begin{matrix}0.099772049\\\\0.2233106841\\\\0.2589100115\\\\0.347960791\\end{matrix}\\right]$"
      ],
      "text/plain": [
       "Matrix([\n",
       "[ 0.099772049],\n",
       "[0.2233106841],\n",
       "[0.2589100115],\n",
       "[ 0.347960791]])"
      ]
     },
     "metadata": {},
     "output_type": "display_data"
    },
    {
     "data": {
      "text/markdown": [
       "<text style=font-weight:bold;font-size:16px;font-family:serif>4 iteration<text>"
      ],
      "text/plain": [
       "<IPython.core.display.Markdown object>"
      ]
     },
     "metadata": {},
     "output_type": "display_data"
    },
    {
     "data": {
      "text/latex": [
       "$\\displaystyle \\left[\\begin{matrix}0.1000197017\\\\0.2250170915\\\\0.2607752527\\\\0.34866444\\end{matrix}\\right]$"
      ],
      "text/plain": [
       "Matrix([\n",
       "[0.1000197017],\n",
       "[0.2250170915],\n",
       "[0.2607752527],\n",
       "[  0.34866444]])"
      ]
     },
     "metadata": {},
     "output_type": "display_data"
    },
    {
     "data": {
      "text/markdown": [
       "<text style=font-weight:bold;font-size:16px;font-family:serif>5 iteration<text>"
      ],
      "text/plain": [
       "<IPython.core.display.Markdown object>"
      ]
     },
     "metadata": {},
     "output_type": "display_data"
    },
    {
     "data": {
      "text/latex": [
       "$\\displaystyle \\left[\\begin{matrix}0.1003772689\\\\0.2250728728\\\\0.260373851\\\\0.3494673588\\end{matrix}\\right]$"
      ],
      "text/plain": [
       "Matrix([\n",
       "[0.1003772689],\n",
       "[0.2250728728],\n",
       "[ 0.260373851],\n",
       "[0.3494673588]])"
      ]
     },
     "metadata": {},
     "output_type": "display_data"
    },
    {
     "data": {
      "text/markdown": [
       "<text style=font-weight:bold;font-size:16px;font-family:serif>6 iteration<text>"
      ],
      "text/plain": [
       "<IPython.core.display.Markdown object>"
      ]
     },
     "metadata": {},
     "output_type": "display_data"
    },
    {
     "data": {
      "text/latex": [
       "$\\displaystyle \\left[\\begin{matrix}0.1004387563\\\\0.2254805811\\\\0.2609386966\\\\0.3496940339\\end{matrix}\\right]$"
      ],
      "text/plain": [
       "Matrix([\n",
       "[0.1004387563],\n",
       "[0.2254805811],\n",
       "[0.2609386966],\n",
       "[0.3496940339]])"
      ]
     },
     "metadata": {},
     "output_type": "display_data"
    },
    {
     "data": {
      "text/markdown": [
       "<text style=font-weight:bold;font-size:16px;font-family:serif>7 iteration<text>"
      ],
      "text/plain": [
       "<IPython.core.display.Markdown object>"
      ]
     },
     "metadata": {},
     "output_type": "display_data"
    },
    {
     "data": {
      "text/latex": [
       "$\\displaystyle \\left[\\begin{matrix}0.1005313895\\\\0.2254993065\\\\0.2608236673\\\\0.3499218645\\end{matrix}\\right]$"
      ],
      "text/plain": [
       "Matrix([\n",
       "[0.1005313895],\n",
       "[0.2254993065],\n",
       "[0.2608236673],\n",
       "[0.3499218645]])"
      ]
     },
     "metadata": {},
     "output_type": "display_data"
    },
    {
     "data": {
      "text/markdown": [
       "<text style=font-weight:bold;font-size:16px;font-family:serif>8 iteration<text>"
      ],
      "text/plain": [
       "<IPython.core.display.Markdown object>"
      ]
     },
     "metadata": {},
     "output_type": "display_data"
    },
    {
     "data": {
      "text/latex": [
       "$\\displaystyle \\left[\\begin{matrix}0.1005401597\\\\0.2256156715\\\\0.2609812639\\\\0.3499883034\\end{matrix}\\right]$"
      ],
      "text/plain": [
       "Matrix([\n",
       "[0.1005401597],\n",
       "[0.2256156715],\n",
       "[0.2609812639],\n",
       "[0.3499883034]])"
      ]
     },
     "metadata": {},
     "output_type": "display_data"
    },
    {
     "data": {
      "text/markdown": [
       "<text style=font-weight:bold;font-size:16px;font-family:serif>9 iteration<text>"
      ],
      "text/plain": [
       "<IPython.core.display.Markdown object>"
      ]
     },
     "metadata": {},
     "output_type": "display_data"
    },
    {
     "data": {
      "text/latex": [
       "$\\displaystyle \\left[\\begin{matrix}0.1005660379\\\\0.2256202222\\\\0.2609492325\\\\0.3500528971\\end{matrix}\\right]$"
      ],
      "text/plain": [
       "Matrix([\n",
       "[0.1005660379],\n",
       "[0.2256202222],\n",
       "[0.2609492325],\n",
       "[0.3500528971]])"
      ]
     },
     "metadata": {},
     "output_type": "display_data"
    },
    {
     "data": {
      "text/markdown": [
       "<text style=font-weight:bold;font-size:16px;font-family:serif>10 iteration<text>"
      ],
      "text/plain": [
       "<IPython.core.display.Markdown object>"
      ]
     },
     "metadata": {},
     "output_type": "display_data"
    },
    {
     "data": {
      "text/latex": [
       "$\\displaystyle \\left[\\begin{matrix}0.1005680733\\\\0.2256523012\\\\0.2609940632\\\\0.3500720528\\end{matrix}\\right]$"
      ],
      "text/plain": [
       "Matrix([\n",
       "[0.1005680733],\n",
       "[0.2256523012],\n",
       "[0.2609940632],\n",
       "[0.3500720528]])"
      ]
     },
     "metadata": {},
     "output_type": "display_data"
    },
    {
     "data": {
      "text/markdown": [
       "<text style=font-weight:bold;font-size:16px;font-family:serif>Answer<text>"
      ],
      "text/plain": [
       "<IPython.core.display.Markdown object>"
      ]
     },
     "metadata": {},
     "output_type": "display_data"
    },
    {
     "data": {
      "text/latex": [
       "$\\displaystyle \\left[\\begin{matrix}0.1005680733\\\\0.2256523012\\\\0.2609940632\\\\0.3500720528\\end{matrix}\\right]$"
      ],
      "text/plain": [
       "Matrix([\n",
       "[0.1005680733],\n",
       "[0.2256523012],\n",
       "[0.2609940632],\n",
       "[0.3500720528]])"
      ]
     },
     "metadata": {},
     "output_type": "display_data"
    }
   ],
   "source": [
    "x = steepest_descent_method(A, f, 10)"
   ]
  },
  {
   "cell_type": "code",
   "execution_count": 23,
   "metadata": {},
   "outputs": [
    {
     "data": {
      "text/markdown": [
       "<text style=font-weight:bold;font-size:16px;font-family:serif>Initial data<text>"
      ],
      "text/plain": [
       "<IPython.core.display.Markdown object>"
      ]
     },
     "metadata": {},
     "output_type": "display_data"
    },
    {
     "data": {
      "text/latex": [
       "$\\displaystyle \\left[\\begin{matrix}\\left[\\begin{matrix}1.0 & 0.17 & -0.25 & 0.54\\\\0.47 & 1.0 & 0.67 & -0.32\\\\-0.11 & 0.35 & 1.0 & -0.74\\\\0.55 & 0.43 & 0.36 & 1.0\\end{matrix}\\right] & \\left[\\begin{matrix}0.3\\\\0.5\\\\0.7\\\\0.9\\end{matrix}\\right]\\end{matrix}\\right]$"
      ],
      "text/plain": [
       "Matrix([[Matrix([\n",
       "[  1.0, 0.17, -0.25,  0.54],\n",
       "[ 0.47,  1.0,  0.67, -0.32],\n",
       "[-0.11, 0.35,   1.0, -0.74],\n",
       "[ 0.55, 0.43,  0.36,   1.0]]), Matrix([\n",
       "[0.3],\n",
       "[0.5],\n",
       "[0.7],\n",
       "[0.9]])]])"
      ]
     },
     "metadata": {},
     "output_type": "display_data"
    },
    {
     "name": "stderr",
     "output_type": "stream",
     "text": [
      "<ipython-input-21-4735934a8356>:9: UserWarning: Matrix is not symmetric\n",
      "  warnings.warn(\"Matrix is not symmetric\")  # display an error\n"
     ]
    }
   ],
   "source": [
    "steepest_descent_method(test_A1_Err, f, -10)"
   ]
  },
  {
   "cell_type": "code",
   "execution_count": 24,
   "metadata": {},
   "outputs": [
    {
     "data": {
      "text/markdown": [
       "<text style=font-weight:bold;font-size:16px;font-family:serif>Initial data<text>"
      ],
      "text/plain": [
       "<IPython.core.display.Markdown object>"
      ]
     },
     "metadata": {},
     "output_type": "display_data"
    },
    {
     "data": {
      "text/latex": [
       "$\\displaystyle \\left[\\begin{matrix}\\left[\\begin{matrix}-11.0 & 6.0\\\\6.0 & -11.0\\end{matrix}\\right] & \\left[\\begin{matrix}0.3\\\\0.5\\end{matrix}\\right]\\end{matrix}\\right]$"
      ],
      "text/plain": [
       "Matrix([[Matrix([\n",
       "[-11.0,   6.0],\n",
       "[  6.0, -11.0]]), Matrix([\n",
       "[0.3],\n",
       "[0.5]])]])"
      ]
     },
     "metadata": {},
     "output_type": "display_data"
    },
    {
     "name": "stderr",
     "output_type": "stream",
     "text": [
      "<ipython-input-21-4735934a8356>:6: UserWarning: Matrix is not positive definite\n",
      "  warnings.warn(\"Matrix is not positive definite\")  # display an error\n"
     ]
    }
   ],
   "source": [
    "steepest_descent_method(test_A2_Err, test_f2_Err, 10)"
   ]
  },
  {
   "cell_type": "markdown",
   "metadata": {},
   "source": [
    "## Estimation of the accuracy of the obtained solution "
   ]
  },
  {
   "cell_type": "code",
   "execution_count": 25,
   "metadata": {},
   "outputs": [
    {
     "data": {
      "text/markdown": [
       "<text style=font-weight:bold;font-size:16px;font-family:serif>Residual vector<text>"
      ],
      "text/plain": [
       "<IPython.core.display.Markdown object>"
      ]
     },
     "metadata": {},
     "output_type": "display_data"
    },
    {
     "data": {
      "text/latex": [
       "$\\displaystyle \\left[\\begin{matrix}6.22681101437594 \\cdot 10^{-5}\\\\1.11072297926951 \\cdot 10^{-5}\\\\-7.82185327168339 \\cdot 10^{-5}\\\\0.000157840633184247\\end{matrix}\\right]$"
      ],
      "text/plain": [
       "Matrix([\n",
       "[ 6.22681101437594e-5],\n",
       "[ 1.11072297926951e-5],\n",
       "[-7.82185327168339e-5],\n",
       "[0.000157840633184247]])"
      ]
     },
     "metadata": {},
     "output_type": "display_data"
    }
   ],
   "source": [
    "r = f - np.matmul(A, x)\n",
    "display(Markdown(f'<text style=font-weight:bold;font-size:16px;font-family:serif>Residual vector<text>'),\n",
    "        sp.Matrix(r.T))"
   ]
  }
 ],
 "metadata": {
  "kernelspec": {
   "display_name": "Python 3",
   "language": "python",
   "name": "python3"
  },
  "language_info": {
   "codemirror_mode": {
    "name": "ipython",
    "version": 3
   },
   "file_extension": ".py",
   "mimetype": "text/x-python",
   "name": "python",
   "nbconvert_exporter": "python",
   "pygments_lexer": "ipython3",
   "version": "3.9.1"
  }
 },
 "nbformat": 4,
 "nbformat_minor": 4
}
