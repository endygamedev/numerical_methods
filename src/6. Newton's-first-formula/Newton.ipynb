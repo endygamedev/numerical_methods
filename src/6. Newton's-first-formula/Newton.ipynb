{
 "cells": [
  {
   "cell_type": "markdown",
   "id": "595e474f-6b41-4876-9be9-e3455d9b80f4",
   "metadata": {},
   "source": [
    "# Newton's first interpolation formula (Newton's formula at the beginning of the table)"
   ]
  },
  {
   "cell_type": "markdown",
   "id": "dd9b62e3-2122-4f67-845b-c25fc22f4623",
   "metadata": {
    "tags": []
   },
   "source": [
    "_Last update:_ 28.07.2021"
   ]
  },
  {
   "cell_type": "markdown",
   "id": "dced8955-b99c-4948-af3d-976aeeb244ef",
   "metadata": {},
   "source": [
    "## Importing modules"
   ]
  },
  {
   "cell_type": "code",
   "execution_count": 7,
   "id": "d093ae11-8961-467e-bc43-7368e226bc35",
   "metadata": {},
   "outputs": [],
   "source": [
    "import numpy as np                             # for working with matricies and vectors\n",
    "import matplotlib.pyplot as plt                # for drawing graphs\n",
    "import sympy as sp                             # for beautiful display of intermediate results\n",
    "from math import factorial                     # to find the factorial\n",
    "import functools                               # some functional programming\n",
    "from IPython.display import Markdown, display  # for beautiful text output\n",
    "\n",
    "%matplotlib inline"
   ]
  },
  {
   "cell_type": "code",
   "execution_count": 8,
   "id": "3fe3099e-ed14-4909-babe-50fe946410bb",
   "metadata": {},
   "outputs": [],
   "source": [
    "plt.style.use('seaborn-poster')  # graph style"
   ]
  },
  {
   "cell_type": "markdown",
   "id": "f99bd85f-9aab-4c2c-b46d-6d116bcdc7d7",
   "metadata": {},
   "source": [
    "## Input data"
   ]
  },
  {
   "cell_type": "code",
   "execution_count": 9,
   "id": "2cc509ba-8c41-4e96-bcc9-4bad92b2ccf9",
   "metadata": {},
   "outputs": [],
   "source": [
    "def f(x):\n",
    "    return np.log(x) + np.sqrt(1+x)"
   ]
  },
  {
   "cell_type": "code",
   "execution_count": 10,
   "id": "568c7cea-a42d-4986-84c1-6deb430eff3a",
   "metadata": {},
   "outputs": [
    {
     "data": {
      "text/markdown": [
       "<text style=font-size:16px;font-family:serif>f(x) = </text> $\\sqrt{x + 1} + \\log{\\left(x \\right)}$"
      ],
      "text/plain": [
       "<IPython.core.display.Markdown object>"
      ]
     },
     "metadata": {},
     "output_type": "display_data"
    }
   ],
   "source": [
    "x_d = sp.Symbol('x')\n",
    "display(Markdown(f\"<text style=font-size:16px;font-family:serif>f(x) = </text> {sp.latex(sp.log(x_d) + sp.sqrt(1+x_d), mode='inline')}\"))"
   ]
  },
  {
   "cell_type": "code",
   "execution_count": 11,
   "id": "211cd4b8-0eaf-4365-8acb-1ddf2659b258",
   "metadata": {},
   "outputs": [],
   "source": [
    "h = 2.5\n",
    "x_0 = 1\n",
    "x_1 = 17"
   ]
  },
  {
   "cell_type": "code",
   "execution_count": 12,
   "id": "55468ad2-46e9-4e0b-b3ab-c47a01827eae",
   "metadata": {},
   "outputs": [
    {
     "data": {
      "text/markdown": [
       "<text style=font-size:16px;font-family:serif>x = [1.0, 3.5, 6.0, 8.5, 11.0, 13.5, 16.0]<br>f(x) = [1.4142135623730951, 3.3740833120550104, 4.437510780292646, 5.222273164980759, 5.861996887936125, 6.410576238376338, 6.895694347857441] </text>"
      ],
      "text/plain": [
       "<IPython.core.display.Markdown object>"
      ]
     },
     "metadata": {},
     "output_type": "display_data"
    }
   ],
   "source": [
    "x = np.arange(x_0, x_1, h)\n",
    "y = f(x)\n",
    "display(Markdown(f\"<text style=font-size:16px;font-family:serif>x = {list(x)}<br>f(x) = {list(y)} </text>\"))"
   ]
  },
  {
   "cell_type": "markdown",
   "id": "53679ba2-6280-4f6e-919a-a23eb775c10f",
   "metadata": {},
   "source": [
    "## Finding finite differences"
   ]
  },
  {
   "cell_type": "code",
   "execution_count": 13,
   "id": "244d6c52-0b6a-4826-8067-c2309a9490e6",
   "metadata": {},
   "outputs": [],
   "source": [
    "def finite_differences(y: np.array) -> np.matrix:\n",
    "    ''' finite_differences - compiles a finite difference table\n",
    "        \n",
    "        Arguments:\n",
    "            * y: np.array - list of values `f(x)`\n",
    "        \n",
    "        Return:\n",
    "            np.matrix - finite difference table\n",
    "    '''\n",
    "    \n",
    "    n = len(y)               # length of list f(x)\n",
    "    coef = np.zeros([n, n])  # fill the matrix of finite differences with zeros \n",
    "    coef[:, 0] = y           # let the first column be f(x)\n",
    "    for j in range(1, n):    # iterate from the second column\n",
    "        for i in range(n-j): \n",
    "            coef[i][j] = coef[i+1][j-1]-coef[i][j-1]  # by the formula we find all finite differences\n",
    "    return coef"
   ]
  },
  {
   "cell_type": "code",
   "execution_count": 14,
   "id": "bad04a9c-7cbf-4d82-84ed-445336cae8bb",
   "metadata": {},
   "outputs": [
    {
     "data": {
      "text/latex": [
       "$\\displaystyle \\left[\\begin{matrix}1.4142135623731 & 1.95986974968192 & -0.89644228144428 & 0.617777197894757 & -0.484150776077982 & 0.404418643478801 & -0.350897668541171\\\\3.37408331205501 & 1.06342746823764 & -0.278665083549523 & 0.133626421816775 & -0.0797321325991809 & 0.0535209749376295 & 0.0\\\\4.43751078029265 & 0.784762384688113 & -0.145038661732747 & 0.0538942892175944 & -0.0262111576615514 & 0.0 & 0.0\\\\5.22227316498076 & 0.639723722955366 & -0.0911443725151528 & 0.0276831315560431 & 0.0 & 0.0 & 0.0\\\\5.86199688793613 & 0.548579350440213 & -0.0634612409591098 & 0.0 & 0.0 & 0.0 & 0.0\\\\6.41057623837634 & 0.485118109481103 & 0.0 & 0.0 & 0.0 & 0.0 & 0.0\\\\6.89569434785744 & 0.0 & 0.0 & 0.0 & 0.0 & 0.0 & 0.0\\end{matrix}\\right]$"
      ],
      "text/plain": [
       "Matrix([\n",
       "[ 1.4142135623731,  1.95986974968192,   -0.89644228144428,  0.617777197894757,  -0.484150776077982,  0.404418643478801, -0.350897668541171],\n",
       "[3.37408331205501,  1.06342746823764,  -0.278665083549523,  0.133626421816775, -0.0797321325991809, 0.0535209749376295,                0.0],\n",
       "[4.43751078029265, 0.784762384688113,  -0.145038661732747, 0.0538942892175944, -0.0262111576615514,                0.0,                0.0],\n",
       "[5.22227316498076, 0.639723722955366, -0.0911443725151528, 0.0276831315560431,                 0.0,                0.0,                0.0],\n",
       "[5.86199688793613, 0.548579350440213, -0.0634612409591098,                0.0,                 0.0,                0.0,                0.0],\n",
       "[6.41057623837634, 0.485118109481103,                 0.0,                0.0,                 0.0,                0.0,                0.0],\n",
       "[6.89569434785744,               0.0,                 0.0,                0.0,                 0.0,                0.0,                0.0]])"
      ]
     },
     "execution_count": 14,
     "metadata": {},
     "output_type": "execute_result"
    }
   ],
   "source": [
    "a = finite_differences(y)\n",
    "sp.Matrix(a)"
   ]
  },
  {
   "cell_type": "markdown",
   "id": "80c0b99a-b13e-41cb-9b92-8c354acce80f",
   "metadata": {},
   "source": [
    "## Interpolation"
   ]
  },
  {
   "cell_type": "markdown",
   "id": "905dbcb6-185d-4401-b6b4-a02d1a7fb492",
   "metadata": {},
   "source": [
    "### Polynomial output"
   ]
  },
  {
   "cell_type": "code",
   "execution_count": 15,
   "id": "ef9205d7-1ab3-4960-91a2-2b3c5974cf86",
   "metadata": {},
   "outputs": [],
   "source": [
    "def newton_function(x: np.array, y: np.array, *, var: bool = False) -> None:\n",
    "    ''' newton_function(x: np.array, y: np.array, *, var: bool = False) - displays the interpolation polynomial\n",
    "        \n",
    "        Arguments:\n",
    "            * x: np.array - list of values `x`\n",
    "            * y: np.array - list of values `f(x)`\n",
    "            ** var: bool - determines from which argument will be a polynomial in `x` or from` q`\n",
    "                True - `x`\n",
    "                False - `q`, where` q` = (x - x_0) / h\n",
    "                \n",
    "        Return:\n",
    "            None - but prints the interpolation polynomial to the screen\n",
    "    '''\n",
    "    \n",
    "    coef = finite_differences(y)                    # finite difference table\n",
    "    q = f'(x-{x[0]})/{x[1]-x[0]}' if var else 'q'   # determine what argument the polynomial will have\n",
    "    arg = 'x' if var else 'q'\n",
    "    variables = [list(map(lambda x: f'({q} - {x})', np.arange(0, i))) for i in range(len(y))]  # we find the arguments for the coefficients\n",
    "    lst = []  # list with terms\n",
    "    for i in range(len(variables)):\n",
    "        if len(variables[i]) > 0:  # if we have an argument in the addend\n",
    "            lst.append(str(coef[0, i]) + '*' + functools.reduce((lambda x, y: f'{x}*{y}'), variables[i]) + '/' + str(factorial(i)))  # True: we calculate the term\n",
    "        else:\n",
    "            lst.append(str(coef[0, i]))  # False: add coefficient\n",
    "    expression = functools.reduce((lambda x, y: f'{x} + {y}'), lst)  # get our expression\n",
    "    display(Markdown(f\"<text style=font-size:18px;font-family:serif>P({arg}) = </text> {sp.latex(sp.simplify(expression), mode='inline')}\"))  # take it out"
   ]
  },
  {
   "cell_type": "code",
   "execution_count": 16,
   "id": "bb141cac-30c5-4594-9709-53133aba1cf3",
   "metadata": {},
   "outputs": [
    {
     "data": {
      "text/markdown": [
       "<text style=font-size:18px;font-family:serif>P(q) = </text> $- 0.00048735787297384903 q^{6} + 0.010680523456931076 q^{5} - 0.095299921829259811 q^{4} + 0.45161151943572122 q^{3} - 1.2810560040162616 q^{2} + 2.8744209905077583 q + 1.4142135623730951$"
      ],
      "text/plain": [
       "<IPython.core.display.Markdown object>"
      ]
     },
     "metadata": {},
     "output_type": "display_data"
    }
   ],
   "source": [
    "newton_function(x, y)"
   ]
  },
  {
   "cell_type": "code",
   "execution_count": 17,
   "id": "18b7011d-7103-4533-8dab-0684f67c2e7e",
   "metadata": {},
   "outputs": [
    {
     "data": {
      "text/markdown": [
       "<text style=font-size:18px;font-family:serif>P(x) = </text> $- 1.9962178477008866 \\cdot 10^{-6} x^{6} + 0.00012134586728517958 x^{5} - 0.0030164640675394364 x^{4} + 0.039795459198146133 x^{3} - 0.30744006923693995 x^{2} + 1.6567332613233629 x + 0.028022025506627992$"
      ],
      "text/plain": [
       "<IPython.core.display.Markdown object>"
      ]
     },
     "metadata": {},
     "output_type": "display_data"
    }
   ],
   "source": [
    "newton_function(x, y, var=True)"
   ]
  },
  {
   "cell_type": "markdown",
   "id": "de9f3a0c-1ec9-42d0-91f1-873a39af81c5",
   "metadata": {},
   "source": [
    "### Interpolation process"
   ]
  },
  {
   "cell_type": "code",
   "execution_count": 18,
   "id": "7356b1a9-9846-47d7-bb32-cd1b9e140178",
   "metadata": {},
   "outputs": [],
   "source": [
    "def newton_interpolation(x: float, x_data: np.array, y: np.array) -> float:\n",
    "    ''' newton_interpolation(x: float, x_data: np.array, y: np.array) - find the value of the polynomial at the point `x`\n",
    "    \n",
    "        Arguments:\n",
    "            * x: float - the point at which the polynomial value is sought\n",
    "            * x_data: np.array - a list of initial values `x`\n",
    "            * y: np.array - list of initial values `f (x)`\n",
    "        \n",
    "        Return:\n",
    "            float - polynomial value at point `x`\n",
    "    '''\n",
    "    \n",
    "    coefs = finite_differences(y)  # finite difference table\n",
    "    h = x_data[1] - x_data[0]      # `h` - step\n",
    "    q = (x - x_data[0])/h          # find `q`\n",
    "    mul = 1\n",
    "    s = 0\n",
    "    for i in range(len(y)):\n",
    "        mul = 1\n",
    "        for j in range(i):\n",
    "            mul *= q-j             # find the value of the argument at the point `x`\n",
    "        s += coefs[0, i]*mul/factorial(i)  # find the sum of all terms\n",
    "    return s"
   ]
  },
  {
   "cell_type": "markdown",
   "id": "1b2c3a62-a27a-4554-b942-b2388a3d4ee9",
   "metadata": {},
   "source": [
    "## Results"
   ]
  },
  {
   "cell_type": "code",
   "execution_count": 19,
   "id": "bd31fb59-d0ad-4b60-abb9-b6c939091725",
   "metadata": {},
   "outputs": [
    {
     "data": {
      "text/markdown": [
       "<text style=font-size:16px;font-family:serif>Result: [1.4142135623730951, 3.3740833120550104, 4.437510780292646, 5.222273164980759, 5.861996887936125, 6.41057623837634, 6.895694347857444]<br>Function values: [1.4142135623730951, 3.3740833120550104, 4.437510780292646, 5.222273164980759, 5.861996887936125, 6.410576238376338, 6.895694347857441]<br>Comparing values at specified nodes: [True, True, True, True, True, True, True] </text>"
      ],
      "text/plain": [
       "<IPython.core.display.Markdown object>"
      ]
     },
     "metadata": {},
     "output_type": "display_data"
    }
   ],
   "source": [
    "res = [newton_interpolation(i, x, y) for i in x]\n",
    "comp_res = [np.isclose(res[i], y[i]) for i in range(len(res))]\n",
    "display(Markdown(f\"<text style=font-size:16px;font-family:serif>Result: {res}<br>Function values: {list(y)}<br>Comparing values at specified nodes: {comp_res} </text>\"))"
   ]
  },
  {
   "cell_type": "markdown",
   "id": "ff32b133-02ed-4275-86fd-df06046db598",
   "metadata": {},
   "source": [
    "## Charts"
   ]
  },
  {
   "cell_type": "code",
   "execution_count": 20,
   "id": "023bd4bd-2ac9-4353-b973-6ae16bb879d1",
   "metadata": {},
   "outputs": [],
   "source": [
    "newtonxs = newton_interpolation(x, x, y)"
   ]
  },
  {
   "cell_type": "code",
   "execution_count": 21,
   "id": "e73d1d80-36ee-4b85-b985-69b5864251ae",
   "metadata": {},
   "outputs": [
    {
     "data": {
      "image/png": "[encoded data removed]",
      "text/plain": [
       "<Figure size 921.6x633.6 with 1 Axes>"
      ]
     },
     "metadata": {
      "needs_background": "light"
     },
     "output_type": "display_data"
    }
   ],
   "source": [
    "plt.plot(x, y, color='blue', label='f(x)', linewidth=3)\n",
    "plt.plot(x, newtonxs, linestyle='dashed', color='cyan', linewidth=2, label='P(x)')\n",
    "plt.plot(x, newtonxs, 'bo', markersize=8, color='red', label='nodes')\n",
    "plt.rcParams['figure.figsize'] = (10, 10)\n",
    "plt.legend();"
   ]
  },
  {
   "cell_type": "code",
   "execution_count": 22,
   "id": "4f2d882e-f18a-4160-942b-da291d66806b",
   "metadata": {},
   "outputs": [],
   "source": [
    "xs = np.linspace(x_0, x_1, 50)\n",
    "ys = f(xs)\n",
    "newtonxs = [newton_interpolation(p, xs, ys) for p in xs]"
   ]
  },
  {
   "cell_type": "code",
   "execution_count": 23,
   "id": "5875fc80-d11a-4aa8-a1a9-3d02ee0462d0",
   "metadata": {},
   "outputs": [
    {
     "data": {
      "image/png": "[encoded data removed]",
      "text/plain": [
       "<Figure size 720x720 with 1 Axes>"
      ]
     },
     "metadata": {
      "needs_background": "light"
     },
     "output_type": "display_data"
    }
   ],
   "source": [
    "plt.plot(xs, ys, color='blue', label='f(x)', linewidth=3)\n",
    "plt.plot(xs, newtonxs, linestyle='dashed', color='cyan', linewidth=2, label='P(x)')\n",
    "plt.rcParams['figure.figsize'] = (10, 10)\n",
    "plt.legend();"
   ]
  }
 ],
 "metadata": {
  "kernelspec": {
   "display_name": "Python 3",
   "language": "python",
   "name": "python3"
  },
  "language_info": {
   "codemirror_mode": {
    "name": "ipython",
    "version": 3
   },
   "file_extension": ".py",
   "mimetype": "text/x-python",
   "name": "python",
   "nbconvert_exporter": "python",
   "pygments_lexer": "ipython3",
   "version": "3.9.6"
  }
 },
 "nbformat": 4,
 "nbformat_minor": 5
}
